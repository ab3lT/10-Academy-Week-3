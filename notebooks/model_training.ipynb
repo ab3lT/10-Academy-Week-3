{
 "cells": [
  {
   "cell_type": "markdown",
   "metadata": {},
   "source": [
    "Model Training\n",
    "Model Training and Evaluation\n",
    "\n",
    "Having preprocessed the data and saved it to a CSV file, the next step is to build and evaluate various models. This section outlines the approach for model training, evaluation, and feature importance analysis to ensure we achieve the best model for predicting insurance claims.\n",
    "\n",
    "The objective of this report is to document the complete process of training, evaluating, and interpreting machine learning models for predicting car insurance claims. The preprocessed dataset (created in a previous step) was used to train various models, and each model was evaluated based on relevant metrics to identify the best-performing one. Additionally, SHAP analysis was used to explain feature importance and model predictions."
   ]
  },
  {
   "cell_type": "code",
   "execution_count": 2,
   "metadata": {},
   "outputs": [],
   "source": [
    "# Import libraries\n",
    "import pandas as pd\n",
    "import matplotlib.pyplot as plt\n",
    "import seaborn as sns\n",
    "\n",
    "\n",
    "from sklearn.metrics import mean_squared_error, r2_score\n",
    "import os, sys\n",
    "# Add the 'scripts' directory to the Python path for module imports\n",
    "sys.path.append(os.path.abspath(os.path.join('..', 'scripts')))\n",
    "# Set max rows and columns to display\n",
    "pd.set_option('display.max_columns', 200)\n",
    "pd.set_option('display.max_rows', 200)\n",
    "import warnings\n",
    "warnings.filterwarnings(\"ignore\", message=\"\")"
   ]
  },
  {
   "cell_type": "markdown",
   "metadata": {},
   "source": [
    "Train-Test Split Implementation Steps:\n",
    "Load the Data:\n",
    "\n",
    "Import the preprocessed dataset from the CSV file.\n",
    "\n",
    "Divide the Data:\n",
    "Use train_test_split from scikit-learn to split the data into training and test sets."
   ]
  },
  {
   "cell_type": "code",
   "execution_count": 3,
   "metadata": {},
   "outputs": [],
   "source": [
    "# Load the preprocessed data\n",
    "df = pd.read_csv('../data/preprocessed_data.csv')\n",
    "\n",
    "# Define features and target variable\n",
    "X = df.drop(columns=['TotalPremium'])\n",
    "y = df['TotalPremium']\n",
    "\n",
    "# Split data into training and test sets\n",
    "X_train, X_test, y_train, y_test = train_test_split(X, y, test_size=0.2, random_state=42)"
   ]
  },
  {
   "cell_type": "markdown",
   "metadata": {},
   "source": []
  }
 ],
 "metadata": {
  "kernelspec": {
   "display_name": ".venv",
   "language": "python",
   "name": "python3"
  },
  "language_info": {
   "codemirror_mode": {
    "name": "ipython",
    "version": 3
   },
   "file_extension": ".py",
   "mimetype": "text/x-python",
   "name": "python",
   "nbconvert_exporter": "python",
   "pygments_lexer": "ipython3",
   "version": "3.12.3"
  }
 },
 "nbformat": 4,
 "nbformat_minor": 2
}
